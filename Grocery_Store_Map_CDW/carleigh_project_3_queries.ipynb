{
 "cells": [
  {
   "cell_type": "code",
   "execution_count": null,
   "id": "c66db696-6dbf-42d9-82e7-d750451c9717",
   "metadata": {},
   "outputs": [],
   "source": [
    "import pandas as pd\n",
    "import sqlite3"
   ]
  },
  {
   "cell_type": "code",
   "execution_count": null,
   "id": "ea552ea2-5832-4942-a62f-f78ccb1eb023",
   "metadata": {},
   "outputs": [],
   "source": [
    "#create a sqlite file\n",
    "db_name = \"us_food_desert.sqlite\"\n",
    "\n",
    "conn = sqlite3.connect(db_name)\n",
    "cursor = conn.cursor()"
   ]
  },
  {
   "cell_type": "code",
   "execution_count": null,
   "id": "7d2c0e1f-05e1-4211-a7da-9a58d2387230",
   "metadata": {},
   "outputs": [],
   "source": [
    "#read our cleaned data csv \n",
    "df = pd.read_csv(\"FoodAccessResearchDataCleanCSV_Updated.csv\")"
   ]
  },
  {
   "cell_type": "code",
   "execution_count": null,
   "id": "c06ed103-6be3-4688-8cd6-4cd67a97e63f",
   "metadata": {},
   "outputs": [],
   "source": [
    "df.to_sql(\"food_deserts\", conn, if_exists=\"replace\", index=False)"
   ]
  },
  {
   "cell_type": "code",
   "execution_count": null,
   "id": "17966854-877d-4039-bcb8-0d1c362149bb",
   "metadata": {},
   "outputs": [],
   "source": [
    "#query to make sure we imported and created it properly\n",
    "query = \"SELECT * FROM food_deserts LIMIT 5;\"\n",
    "result = pd.read_sql(query, conn)\n",
    "print(result)"
   ]
  },
  {
   "cell_type": "code",
   "execution_count": null,
   "id": "c824acb4-4ed3-4262-9815-cfd26eea2926",
   "metadata": {},
   "outputs": [],
   "source": [
    "#inspect column names\n",
    "print(df.columns)"
   ]
  },
  {
   "cell_type": "code",
   "execution_count": null,
   "id": "3a54fc63-d213-47c4-b087-1514cfccc885",
   "metadata": {},
   "outputs": [],
   "source": [
    "#filter certain columns that would apply to states with the worst access to grocery stores\n",
    "columns_to_filter = [\"State\", \"County_State\", \"latitude\", \"longitude\", \"LowAccess_1MUrban_10MRural\", \"LowAccessHispLatam_10M\", \"LowAccessOther_10M\", \"LowAccessNAAN_10M\", \"LowAccessNHPI_10M\", \"LowAccessAsian_10M\", \"LowAccessBlack_10M\"]"
   ]
  },
  {
   "cell_type": "code",
   "execution_count": null,
   "id": "374e0768-0933-4b19-b7b6-ab4c37f917aa",
   "metadata": {},
   "outputs": [],
   "source": [
    "#create a loop for existing columns and the columns we want to filter\n",
    "existing_columns = [col for col in columns_to_filter if col in df.columns]"
   ]
  },
  {
   "cell_type": "code",
   "execution_count": null,
   "id": "0b0f8b6b-aa61-4edb-8968-a0c0f7e3a673",
   "metadata": {},
   "outputs": [],
   "source": [
    "#create a dataframe from the filtered columns\n",
    "filtered_df = df[existing_columns]\n",
    "filtered_df.head()"
   ]
  },
  {
   "cell_type": "code",
   "execution_count": null,
   "id": "aa01b40d-ef9c-43bb-bf77-42b304d2ac0d",
   "metadata": {},
   "outputs": [],
   "source": [
    "#remove the null data and create a new cleaned dataframe\n",
    "no_null_data_df = filtered_df.dropna(how='any')\n",
    "no_null_data_df.head()"
   ]
  },
  {
   "cell_type": "code",
   "execution_count": null,
   "id": "a2fd57d1-ad0a-4eed-9380-0c0a3b92b677",
   "metadata": {},
   "outputs": [],
   "source": [
    "#look at the max values for the dataframe\n",
    "columns_to_check = ['LowAccess_1MUrban_10MRural', 'LowAccessHispLatam_10M', 'LowAccessOther_10M', 'LowAccessNAAN_10M', 'LowAccessNHPI_10M', 'LowAccessAsian_10M', 'LowAccessBlack_10M']\n",
    "\n",
    "\n",
    "\n",
    "max_values = no_null_data_df[columns_to_check].max()\n",
    "print(max_values)"
   ]
  },
  {
   "cell_type": "code",
   "execution_count": null,
   "id": "9f0694ae-1f44-4bca-a752-d2f9a042149e",
   "metadata": {},
   "outputs": [],
   "source": [
    "#create a dataframe to hold my resulst\n",
    "results = pd.DataFrame()\n",
    "\n",
    "# filter the dataframe for california and arizona only\n",
    "filtered_data = no_null_data_df[no_null_data_df['State'].isin(['California', 'Arizona'])]\n",
    "\n",
    "#create a for loop to look for the top 5 max values for each column in columns_to_check\n",
    "for column in columns_to_check:\n",
    "    top_values = filtered_data.nlargest(5, column)[['State', 'County_State', column]]\n",
    "    results = pd.concat([results, top_values], ignore_index=True)\n",
    "\n",
    "print(results)"
   ]
  },
  {
   "cell_type": "code",
   "execution_count": null,
   "id": "47405d8f-46fc-47fd-9a25-95cffd88529e",
   "metadata": {},
   "outputs": [],
   "source": [
    "#export the results to a csv for further inspection\n",
    "results.to_csv('top_5_max_values_cali_arizona.csv', index=False, encoding='utf-8')"
   ]
  }
 ],
 "metadata": {
  "kernelspec": {
   "display_name": "Python 3 (ipykernel)",
   "language": "python",
   "name": "python3"
  },
  "language_info": {
   "codemirror_mode": {
    "name": "ipython",
    "version": 3
   },
   "file_extension": ".py",
   "mimetype": "text/x-python",
   "name": "python",
   "nbconvert_exporter": "python",
   "pygments_lexer": "ipython3",
   "version": "3.10.15"
  }
 },
 "nbformat": 4,
 "nbformat_minor": 5
}
