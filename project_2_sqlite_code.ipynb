{
 "cells": [
  {
   "cell_type": "code",
   "execution_count": 14,
   "id": "d5fd7591-90b1-49c8-b366-275da8f1fd88",
   "metadata": {},
   "outputs": [],
   "source": [
    "import pandas as pd\n",
    "import sqlite3"
   ]
  },
  {
   "cell_type": "code",
   "execution_count": 15,
   "id": "6ca799e4-06fc-4193-b501-88dc398a29ed",
   "metadata": {},
   "outputs": [],
   "source": [
    "db_name = \"us_food_desert.sqlite\"\n",
    "\n",
    "conn = sqlite3.connect(db_name)\n",
    "cursor = conn.cursor()"
   ]
  },
  {
   "cell_type": "code",
   "execution_count": 16,
   "id": "50f5dc82-6db9-4cc1-bc0e-f248e68cf59e",
   "metadata": {},
   "outputs": [],
   "source": [
    "df = pd.read_csv(\"FoodAccessResearchDataCleanCSV_Updated.csv\")"
   ]
  },
  {
   "cell_type": "code",
   "execution_count": 17,
   "id": "d801651e-d4e6-44da-ab5e-2f7c8a6efe60",
   "metadata": {},
   "outputs": [
    {
     "data": {
      "text/plain": [
       "3101"
      ]
     },
     "execution_count": 17,
     "metadata": {},
     "output_type": "execute_result"
    }
   ],
   "source": [
    "df.to_sql(\"food_deserts\", conn, if_exists=\"replace\", index=False)"
   ]
  },
  {
   "cell_type": "code",
   "execution_count": 18,
   "id": "12aeca9c-4d8d-4988-abf9-db2347840f20",
   "metadata": {},
   "outputs": [
    {
     "name": "stdout",
     "output_type": "stream",
     "text": [
      "     State          County             County_State  latitude  longitude  \\\n",
      "0  Alabama  Autauga County  Autauga County, Alabama   32.4597   -86.4573   \n",
      "1  Alabama  Baldwin County  Baldwin County, Alabama   30.6263   -87.8816   \n",
      "2  Alabama  Barbour County  Barbour County, Alabama   31.9102   -85.1505   \n",
      "3  Alabama     Bibb County     Bibb County, Alabama   32.9421   -87.1753   \n",
      "4  Alabama   Blount County   Blount County, Alabama   33.9394   -86.4932   \n",
      "\n",
      "   TotalPopulation  LowAccess_1MUrban_10MRural  LowAccess_HalfUrban_10MRural  \\\n",
      "0            54571                        9252                       14721.0   \n",
      "1           182265                       22895                       35823.0   \n",
      "2            27457                        2817                        4281.0   \n",
      "3            22915                         183                         183.0   \n",
      "4            57322                        1951                        2716.0   \n",
      "\n",
      "   LowAccess_HalfUrban_10MRural.1  LowAccess_LowInc_1MUrban_10MRural  ...  \\\n",
      "0                            6692                               3553  ...   \n",
      "1                           21740                               7233  ...   \n",
      "2                             496                               1432  ...   \n",
      "3                               0                                 51  ...   \n",
      "4                            1951                                720  ...   \n",
      "\n",
      "   LowAccessHispLatam_10M  LowAccessSNAP_10M  TotalPopulationWhite  \\\n",
      "0                      66                314                 42855   \n",
      "1                      17                 77                156153   \n",
      "2                     426                390                 13180   \n",
      "3                       3                 17                 17381   \n",
      "4                       0                  0                 53068   \n",
      "\n",
      "   TotalPopulationBlack  TotalPopulationAsian  TotalPopulationNHPI  \\\n",
      "0                  9643                   474                   32   \n",
      "1                 17105                  1348                   89   \n",
      "2                 12875                   107                   29   \n",
      "3                  5047                    22                   13   \n",
      "4                   761                   117                   38   \n",
      "\n",
      "   TotalPopulationNAAN  TotalPopulationOther  TotalPopulationHispanicLatam  \\\n",
      "0                   78                   157                           548   \n",
      "1                  379                   757                          2650   \n",
      "2                   63                   127                           443   \n",
      "3                   23                    45                           158   \n",
      "4                  167                   334                          1168   \n",
      "\n",
      "   TotalPopulationSnapBenefits  \n",
      "0                         1345  \n",
      "1                         2893  \n",
      "2                         1286  \n",
      "3                          501  \n",
      "4                         1128  \n",
      "\n",
      "[5 rows x 46 columns]\n"
     ]
    }
   ],
   "source": [
    "query = \"SELECT * FROM food_deserts LIMIT 5;\"\n",
    "result = pd.read_sql(query, conn)\n",
    "print(result)"
   ]
  },
  {
   "cell_type": "code",
   "execution_count": null,
   "id": "1bafa754-fd0f-47a9-ae5c-a21eaae206aa",
   "metadata": {},
   "outputs": [],
   "source": []
  }
 ],
 "metadata": {
  "kernelspec": {
   "display_name": "Python 3 (ipykernel)",
   "language": "python",
   "name": "python3"
  },
  "language_info": {
   "codemirror_mode": {
    "name": "ipython",
    "version": 3
   },
   "file_extension": ".py",
   "mimetype": "text/x-python",
   "name": "python",
   "nbconvert_exporter": "python",
   "pygments_lexer": "ipython3",
   "version": "3.10.15"
  }
 },
 "nbformat": 4,
 "nbformat_minor": 5
}
