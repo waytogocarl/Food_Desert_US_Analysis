{
 "cells": [
  {
   "cell_type": "code",
   "execution_count": null,
   "id": "d5fd7591-90b1-49c8-b366-275da8f1fd88",
   "metadata": {},
   "outputs": [],
   "source": [
    "import pandas as pd\n",
    "import sqlite3\n",
    "from pprint import pprint"
   ]
  },
  {
   "cell_type": "code",
   "execution_count": null,
   "id": "6ca799e4-06fc-4193-b501-88dc398a29ed",
   "metadata": {},
   "outputs": [],
   "source": [
    "#create a sqlite file\n",
    "db_name = \"us_food_desert.sqlite\"\n",
    "\n",
    "conn = sqlite3.connect(db_name)\n",
    "cursor = conn.cursor()"
   ]
  },
  {
   "cell_type": "code",
   "execution_count": null,
   "id": "50f5dc82-6db9-4cc1-bc0e-f248e68cf59e",
   "metadata": {},
   "outputs": [],
   "source": [
    "#read our cleaned data csv \n",
    "df = pd.read_csv(\"FoodAccessResearchDataCleanCSV_Updated.csv\")"
   ]
  },
  {
   "cell_type": "code",
   "execution_count": null,
   "id": "d801651e-d4e6-44da-ab5e-2f7c8a6efe60",
   "metadata": {},
   "outputs": [],
   "source": [
    "df.to_sql(\"food_deserts\", conn, if_exists=\"replace\", index=False)"
   ]
  },
  {
   "cell_type": "code",
   "execution_count": null,
   "id": "12aeca9c-4d8d-4988-abf9-db2347840f20",
   "metadata": {},
   "outputs": [],
   "source": [
    "#query to make sure we imported and created it properly\n",
    "query = \"SELECT * FROM food_deserts LIMIT 5;\"\n",
    "result = pd.read_sql(query, conn)\n",
    "print(result)"
   ]
  }
 ],
 "metadata": {
  "kernelspec": {
   "display_name": "Python 3 (ipykernel)",
   "language": "python",
   "name": "python3"
  },
  "language_info": {
   "codemirror_mode": {
    "name": "ipython",
    "version": 3
   },
   "file_extension": ".py",
   "mimetype": "text/x-python",
   "name": "python",
   "nbconvert_exporter": "python",
   "pygments_lexer": "ipython3",
   "version": "3.10.15"
  }
 },
 "nbformat": 4,
 "nbformat_minor": 5
}
